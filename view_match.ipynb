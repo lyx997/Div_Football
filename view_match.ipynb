{
 "cells": [
  {
   "cell_type": "code",
   "execution_count": 4,
   "metadata": {},
   "outputs": [
    {
     "name": "stdout",
     "output_type": "stream",
     "text": [
      "Defaulting to user installation because normal site-packages is not writeable\n",
      "Looking in indexes: http://mirrors.aliyun.com/pypi/simple\n",
      "Collecting kaggle-environments\n",
      "  Downloading http://mirrors.aliyun.com/pypi/packages/bd/13/32d3e86d9a1210769c6fcfae34c57e23e3c720ecef081f597e0575e7fd0b/kaggle_environments-1.8.12-py2.py3-none-any.whl (1.2 MB)\n",
      "\u001b[K     |████████████████████████████████| 1.2 MB 58.8 MB/s eta 0:00:01\n",
      "\u001b[?25hRequirement already satisfied, skipping upgrade: jsonschema>=3.0.1 in /usr/local/lib/python3.6/dist-packages (from kaggle-environments) (3.2.0)\n",
      "Requirement already satisfied, skipping upgrade: importlib-metadata; python_version < \"3.8\" in /usr/local/lib/python3.6/dist-packages (from jsonschema>=3.0.1->kaggle-environments) (2.0.0)\n",
      "Requirement already satisfied, skipping upgrade: attrs>=17.4.0 in /usr/local/lib/python3.6/dist-packages (from jsonschema>=3.0.1->kaggle-environments) (20.3.0)\n",
      "Requirement already satisfied, skipping upgrade: pyrsistent>=0.14.0 in /usr/local/lib/python3.6/dist-packages (from jsonschema>=3.0.1->kaggle-environments) (0.17.3)\n",
      "Requirement already satisfied, skipping upgrade: setuptools in /usr/local/lib/python3.6/dist-packages (from jsonschema>=3.0.1->kaggle-environments) (50.3.2)\n",
      "Requirement already satisfied, skipping upgrade: six>=1.11.0 in /usr/local/lib/python3.6/dist-packages (from jsonschema>=3.0.1->kaggle-environments) (1.15.0)\n",
      "Requirement already satisfied, skipping upgrade: zipp>=0.5 in /usr/local/lib/python3.6/dist-packages (from importlib-metadata; python_version < \"3.8\"->jsonschema>=3.0.1->kaggle-environments) (3.4.0)\n",
      "Installing collected packages: kaggle-environments\n",
      "Successfully installed kaggle-environments-1.8.12\n",
      "\u001b[33mWARNING: You are using pip version 20.2.4; however, version 21.3.1 is available.\n",
      "You should consider upgrading via the '/usr/bin/python3.6 -m pip install --upgrade pip' command.\u001b[0m\n"
     ]
    }
   ],
   "source": [
    "!pip3 install kaggle-environments -U"
   ]
  },
  {
   "cell_type": "code",
   "execution_count": null,
   "metadata": {},
   "outputs": [
    {
     "name": "stdout",
     "output_type": "stream",
     "text": [
      "Staring a new environment 13b8d7e8-2af0-448c-9464-25096210329b: with scenario: 11_vs_11_easy_stochastic\n",
      "Resetting environment 13b8d7e8-2af0-448c-9464-25096210329b: with scenario: 11_vs_11_easy_stochastic\n"
     ]
    }
   ],
   "source": [
    "from kaggle_environments import make\n",
    "for i in range(16):\n",
    "    env = make(\"football\", debug=True, configuration={\"save_video\": True, \"scenario_name\": \"11_vs_11_easy_stochastic\", \n",
    "                                                  \"debug\":True,\"running_in_notebook\": True})\n",
    "    env.run([\"kaggle_simulations/agent/test.py\", \"kaggle_simulations/agent/main.py\"])\n",
    "    env.render(mode=\"human\", width=400, height=300)"
   ]
  },
  {
   "cell_type": "code",
   "execution_count": null,
   "metadata": {},
   "outputs": [],
   "source": []
  }
 ],
 "metadata": {
  "kernelspec": {
   "display_name": "Python 3",
   "language": "python",
   "name": "python3"
  },
  "language_info": {
   "codemirror_mode": {
    "name": "ipython",
    "version": 3
   },
   "file_extension": ".py",
   "mimetype": "text/x-python",
   "name": "python",
   "nbconvert_exporter": "python",
   "pygments_lexer": "ipython3",
   "version": "3.6.9"
  }
 },
 "nbformat": 4,
 "nbformat_minor": 4
}
